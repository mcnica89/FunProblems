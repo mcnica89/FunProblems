{
  "nbformat": 4,
  "nbformat_minor": 0,
  "metadata": {
    "colab": {
      "provenance": [],
      "include_colab_link": true
    },
    "kernelspec": {
      "name": "python3",
      "display_name": "Python 3"
    },
    "language_info": {
      "name": "python"
    }
  },
  "cells": [
    {
      "cell_type": "markdown",
      "metadata": {
        "id": "view-in-github",
        "colab_type": "text"
      },
      "source": [
        "<a href=\"https://colab.research.google.com/github/mcnica89/FunProblems/blob/main/Irreducible_configurations_counter.ipynb\" target=\"_parent\"><img src=\"https://colab.research.google.com/assets/colab-badge.svg\" alt=\"Open In Colab\"/></a>"
      ]
    },
    {
      "cell_type": "markdown",
      "source": [
        "Most recent strategy:\n"
      ],
      "metadata": {
        "id": "3KZUTXGvBccn"
      }
    },
    {
      "cell_type": "code",
      "source": [
        "import scipy.special as sp\n",
        "import itertools as it\n",
        "\n",
        "def num_irreducible_patterns(p):\n",
        "  #return the number of irreducible patterns for (i_1,j_1),...,(i_p,j_p)\n",
        "  #they are returned as a list [c_1,c_2,...,c_max_unique_indices]\n",
        "  #where c_k is the number of patterns with k unique indices\n",
        "  #e.g. for p=3 returns [1,28,68,32]\n",
        "\n",
        "\n",
        "  max_unique_indices = 2*p - 2 #no need to do 2p-1 or 2p since we know these are 0\n",
        "\n",
        "  irreducible_counts = [0 for i in range(max_unique_indices)] #array that will count irreducible configs\n",
        "\n",
        "  for indices in it.product(range(max_unique_indices), repeat=2*p): #we create all configs of length 2p with indices in 0 to to max_unique_indices\n",
        "\n",
        "    reducible = False\n",
        " \n",
        "    for i in range(p): #check each point to see if its reducible\n",
        "      point_i = {indices[2*i], indices[2*i+1]}\n",
        "      other_points = set(indices[0:2*i])|set(indices[2*i+2:])\n",
        "      if point_i & other_points == set(): #if overlap is empty, then point_i is reducible!\n",
        "        reducible = True\n",
        "        break\n",
        "\n",
        "      \n",
        "    if reducible == False:\n",
        "      num_unique_indices = len(set(indices))\n",
        "      irreducible_counts[num_unique_indices-1] += 1 #Note the minus 1 because python starts at index 0\n",
        "  \n",
        "  #We have overcounted, since for example the pattern (a,b)(b,c) will get counted multiple times by different choices for a,b,c\n",
        "  #For a pattern with k unique indices, there are (max_unique_indices choose k) ways to choose what numbers will be used for a,b,c\n",
        "  #and then there are k! ways to rerrange those into the a,b,c\n",
        "  #So we divide as follows:\n",
        "  num_patterns = [ irreducible_counts[k-1]/sp.comb(max_unique_indices,k)/sp.factorial(k) for k in range(1,max_unique_indices+1) ]\n",
        "  return num_patterns\n",
        "\n",
        "print(f\"Number of patterns for 3rd power: {num_irreducible_patterns(3)}\")\n",
        "\n",
        "print(f\"Number of patterns for 4th power: {num_irreducible_patterns(4)}\")\n",
        "\n",
        "print(\"------\")"
      ],
      "metadata": {
        "id": "pxy4QRajBb9-",
        "colab": {
          "base_uri": "https://localhost:8080/"
        },
        "outputId": "d16f1bf3-9c58-4bf8-8362-2bb0503aa201"
      },
      "execution_count": 48,
      "outputs": [
        {
          "output_type": "stream",
          "name": "stdout",
          "text": [
            "Number of patterns for 3rd power: [1.0, 28.0, 68.0, 32.0]\n",
            "Number of patterns for 4th power: [1.0, 123.0, 844.0, 1268.0, 544.0, 48.0]\n",
            "------\n"
          ]
        }
      ]
    },
    {
      "cell_type": "code",
      "source": [
        "\n",
        "print(f\"Number of patterns for 5th power: {num_irreducible_patterns(5)}\")"
      ],
      "metadata": {
        "colab": {
          "base_uri": "https://localhost:8080/",
          "height": 288
        },
        "id": "a8vdcDYCpyL_",
        "outputId": "20ffe857-66d6-48ec-c308-fde2f0c91cce"
      },
      "execution_count": 49,
      "outputs": [
        {
          "output_type": "error",
          "ename": "KeyboardInterrupt",
          "evalue": "ignored",
          "traceback": [
            "\u001b[0;31m---------------------------------------------------------------------------\u001b[0m",
            "\u001b[0;31mKeyboardInterrupt\u001b[0m                         Traceback (most recent call last)",
            "\u001b[0;32m<ipython-input-49-949da03dcd46>\u001b[0m in \u001b[0;36m<module>\u001b[0;34m\u001b[0m\n\u001b[0;32m----> 1\u001b[0;31m \u001b[0mprint\u001b[0m\u001b[0;34m(\u001b[0m\u001b[0;34mf\"Number of patterns for 5th power: {num_irreducible_patterns(5)}\"\u001b[0m\u001b[0;34m)\u001b[0m\u001b[0;34m\u001b[0m\u001b[0;34m\u001b[0m\u001b[0m\n\u001b[0m",
            "\u001b[0;32m<ipython-input-48-60ef6f736f26>\u001b[0m in \u001b[0;36mnum_irreducible_patterns\u001b[0;34m(p)\u001b[0m\n\u001b[1;32m     19\u001b[0m     \u001b[0;32mfor\u001b[0m \u001b[0mi\u001b[0m \u001b[0;32min\u001b[0m \u001b[0mrange\u001b[0m\u001b[0;34m(\u001b[0m\u001b[0mp\u001b[0m\u001b[0;34m)\u001b[0m\u001b[0;34m:\u001b[0m \u001b[0;31m#check each point to see if its reducible\u001b[0m\u001b[0;34m\u001b[0m\u001b[0;34m\u001b[0m\u001b[0m\n\u001b[1;32m     20\u001b[0m       \u001b[0mpoint_i\u001b[0m \u001b[0;34m=\u001b[0m \u001b[0;34m{\u001b[0m\u001b[0mindices\u001b[0m\u001b[0;34m[\u001b[0m\u001b[0;36m2\u001b[0m\u001b[0;34m*\u001b[0m\u001b[0mi\u001b[0m\u001b[0;34m]\u001b[0m\u001b[0;34m,\u001b[0m \u001b[0mindices\u001b[0m\u001b[0;34m[\u001b[0m\u001b[0;36m2\u001b[0m\u001b[0;34m*\u001b[0m\u001b[0mi\u001b[0m\u001b[0;34m+\u001b[0m\u001b[0;36m1\u001b[0m\u001b[0;34m]\u001b[0m\u001b[0;34m}\u001b[0m\u001b[0;34m\u001b[0m\u001b[0;34m\u001b[0m\u001b[0m\n\u001b[0;32m---> 21\u001b[0;31m       \u001b[0mother_points\u001b[0m \u001b[0;34m=\u001b[0m \u001b[0mset\u001b[0m\u001b[0;34m(\u001b[0m\u001b[0mindices\u001b[0m\u001b[0;34m[\u001b[0m\u001b[0;36m0\u001b[0m\u001b[0;34m:\u001b[0m\u001b[0;36m2\u001b[0m\u001b[0;34m*\u001b[0m\u001b[0mi\u001b[0m\u001b[0;34m]\u001b[0m\u001b[0;34m)\u001b[0m\u001b[0;34m|\u001b[0m\u001b[0mset\u001b[0m\u001b[0;34m(\u001b[0m\u001b[0mindices\u001b[0m\u001b[0;34m[\u001b[0m\u001b[0;36m2\u001b[0m\u001b[0;34m*\u001b[0m\u001b[0mi\u001b[0m\u001b[0;34m+\u001b[0m\u001b[0;36m2\u001b[0m\u001b[0;34m:\u001b[0m\u001b[0;34m]\u001b[0m\u001b[0;34m)\u001b[0m\u001b[0;34m\u001b[0m\u001b[0;34m\u001b[0m\u001b[0m\n\u001b[0m\u001b[1;32m     22\u001b[0m       \u001b[0;32mif\u001b[0m \u001b[0mpoint_i\u001b[0m \u001b[0;34m&\u001b[0m \u001b[0mother_points\u001b[0m \u001b[0;34m==\u001b[0m \u001b[0mset\u001b[0m\u001b[0;34m(\u001b[0m\u001b[0;34m)\u001b[0m\u001b[0;34m:\u001b[0m \u001b[0;31m#if overlap is empty, then point_i is reducible!\u001b[0m\u001b[0;34m\u001b[0m\u001b[0;34m\u001b[0m\u001b[0m\n\u001b[1;32m     23\u001b[0m         \u001b[0mreducible\u001b[0m \u001b[0;34m=\u001b[0m \u001b[0;32mTrue\u001b[0m\u001b[0;34m\u001b[0m\u001b[0;34m\u001b[0m\u001b[0m\n",
            "\u001b[0;31mKeyboardInterrupt\u001b[0m: "
          ]
        }
      ]
    },
    {
      "cell_type": "code",
      "source": [
        "sp.comb(5,2)"
      ],
      "metadata": {
        "colab": {
          "base_uri": "https://localhost:8080/"
        },
        "id": "7JYLipbrm1l4",
        "outputId": "559e9775-76d3-4570-d60a-4e1e44780551"
      },
      "execution_count": 38,
      "outputs": [
        {
          "output_type": "execute_result",
          "data": {
            "text/plain": [
              "10.0"
            ]
          },
          "metadata": {},
          "execution_count": 38
        }
      ]
    },
    {
      "cell_type": "code",
      "source": [
        "A = (0,1,2,3,4,5)\n",
        "set(A[0:2])|set(A[4:])"
      ],
      "metadata": {
        "colab": {
          "base_uri": "https://localhost:8080/"
        },
        "id": "agKNWQZ6aa_5",
        "outputId": "cc44ae17-4176-4787-eff0-05609f770096"
      },
      "execution_count": 16,
      "outputs": [
        {
          "output_type": "execute_result",
          "data": {
            "text/plain": [
              "{0, 1, 4, 5}"
            ]
          },
          "metadata": {},
          "execution_count": 16
        }
      ]
    },
    {
      "cell_type": "code",
      "source": [
        "len(nonzero_list)/np.math.factorial(6)"
      ],
      "metadata": {
        "colab": {
          "base_uri": "https://localhost:8080/"
        },
        "id": "YdiJdoyGI2u0",
        "outputId": "6373a9ff-c03f-475f-ec4e-03af756b345c"
      },
      "execution_count": null,
      "outputs": [
        {
          "output_type": "execute_result",
          "data": {
            "text/plain": [
              "16.0"
            ]
          },
          "metadata": {},
          "execution_count": 18
        }
      ]
    },
    {
      "cell_type": "code",
      "source": [
        "# Code which counts the number of possible combinations from our list that only\n",
        "# use variables \"a,b,c,d\" (0,1,2,3)\n",
        "\n",
        "# I coded this to try to get rid of equivalent cases, but I don't think this \n",
        "# is as useful as I thought\n",
        "count=0\n",
        "for i in range(len(nonzero_list)):\n",
        "  if set(nonzero_list[i]).intersection({4,5}) == set():\n",
        "    #print(nonzero_list[i])\n",
        "    count=count+1"
      ],
      "metadata": {
        "colab": {
          "base_uri": "https://localhost:8080/"
        },
        "id": "TB6vUOfHLGan",
        "outputId": "c5ee9c6c-eff2-42ad-cfff-98a4dcc7a1e2"
      },
      "execution_count": null,
      "outputs": [
        {
          "output_type": "stream",
          "name": "stdout",
          "text": [
            "9.142857142857142\n"
          ]
        }
      ]
    },
    {
      "cell_type": "markdown",
      "source": [
        "Making a plot:\n",
        "\n",
        "This is slow, I wouldn't re-run it unless you adjust n_max to a smaller value"
      ],
      "metadata": {
        "id": "bsNdCeoeP9Hm"
      }
    },
    {
      "cell_type": "code",
      "source": [
        "import itertools as it\n",
        "import numpy as np\n",
        "import matplotlib.pyplot as plt\n",
        "\n",
        "n_max = 20 # gets really slow once you go > 15ish\n",
        "y = np.zeros(n_max-4)\n",
        "\n",
        "for n in range(4,n_max+1):\n",
        "  count=0\n",
        "\n",
        "  def empty_check(set1, set2, set3):\n",
        "    empty_count=0\n",
        "\n",
        "    if set1.intersection(set2) == set():\n",
        "      empty_count = empty_count+1\n",
        "\n",
        "    if set1.intersection(set3) == set():\n",
        "      empty_count = empty_count+1\n",
        "\n",
        "    if set2.intersection(set3) == set():\n",
        "      empty_count = empty_count+1\n",
        "\n",
        "    if empty_count < 2:\n",
        "      return True\n",
        "    \n",
        "    return False\n",
        "\n",
        "  for i in it.product(range(1,n+1), repeat=6):\n",
        "    set1 = {i[0], i[1]}\n",
        "    set2 = {i[2], i[3]}\n",
        "    set3 = {i[4], i[5]}\n",
        "\n",
        "    if empty_check(set1,set2,set3):\n",
        "      count=count+1\n",
        "\n",
        "  y[n-5] = count/(n*(n-1)*(n-2)*(n-3))\n",
        "  print(count/(n*(n-1)*(n-2)*(n-3)))\n",
        "\n",
        "plt.plot(np.arange(4,n_max),y)"
      ],
      "metadata": {
        "colab": {
          "base_uri": "https://localhost:8080/",
          "height": 586
        },
        "id": "KIgV6FrIMA23",
        "outputId": "27297a04-6096-43a4-fe1a-4ced6681067a"
      },
      "execution_count": null,
      "outputs": [
        {
          "output_type": "stream",
          "name": "stdout",
          "text": [
            "114.16666666666667\n",
            "70.70833333333333\n",
            "57.016666666666666\n",
            "50.40833333333333\n",
            "46.53809523809524\n",
            "44.00297619047619\n",
            "42.21626984126984\n",
            "40.890277777777776\n",
            "39.86767676767677\n",
            "39.05530303030303\n",
            "38.39452214452214\n",
            "37.84661172161172\n",
            "37.38498168498168\n",
            "36.99077380952381\n",
            "36.650245098039214\n",
            "36.353145424836605\n",
            "36.09167526659787\n"
          ]
        },
        {
          "output_type": "execute_result",
          "data": {
            "text/plain": [
              "[<matplotlib.lines.Line2D at 0x7f97d52bfaf0>]"
            ]
          },
          "metadata": {},
          "execution_count": 35
        },
        {
          "output_type": "display_data",
          "data": {
            "text/plain": [
              "<Figure size 432x288 with 1 Axes>"
            ],
            "image/png": "[encoded data removed]"
          },
          "metadata": {
            "needs_background": "light"
          }
        }
      ]
    },
    {
      "cell_type": "markdown",
      "source": [
        "# OLD METHODS:"
      ],
      "metadata": {
        "id": "7wW53_yRKzoE"
      }
    },
    {
      "cell_type": "code",
      "execution_count": null,
      "metadata": {
        "colab": {
          "base_uri": "https://localhost:8080/"
        },
        "id": "-C-fxb7Q7n3H",
        "outputId": "ec341a08-5026-4849-bc10-4c181f0a8098"
      },
      "outputs": [
        {
          "output_type": "stream",
          "name": "stdout",
          "text": [
            "124416\n",
            "7.034722222222222\n",
            "114192\n"
          ]
        }
      ],
      "source": [
        "n=12\n",
        "count=n**6\n",
        "\n",
        "def check(i_check, j_check, i_other1, j_other1, i_other2, j_other2):\n",
        "  if i_check != i_other1 and i_check != i_other2:\n",
        "    if j_check != j_other1 and j_check != j_other2:\n",
        "      return True\n",
        "\n",
        "  return False\n",
        "\n",
        "\n",
        "# gross\n",
        "for i1 in range(1,n+1):\n",
        "  for i2 in range(1,n+1):\n",
        "    for i3 in range(1,n+1):\n",
        "      for j1 in range(1,n+1):\n",
        "        for j2 in range(1,n+1):\n",
        "          for j3 in range(1,n+1):\n",
        "              #if (i1 == i2 and (j1==j3 or j2==j3)) or (i1 == i3 and (j1 == j2 or j2 == j3)) or (i2 == i3 and (j1 == j2 or j1 == j3)):\n",
        "              if check(i1,j1,i2,j2,i3,j3) or check(i2,j2,i1,j1,i3,j3) or check(i3,j3,i1,j1,i2,j2):\n",
        "                count =  count-1\n",
        "\n",
        "calc = 6*n**4 -6*n**3 + n**2\n",
        "\n",
        "#print(6*n**4)\n",
        "print(count/n**4)\n",
        "print(calc)"
      ]
    },
    {
      "cell_type": "markdown",
      "source": [
        "New Method"
      ],
      "metadata": {
        "id": "jq_czoDn-Dyl"
      }
    },
    {
      "cell_type": "code",
      "source": [
        "import itertools as it\n",
        "\n",
        "n=12\n",
        "count=0\n",
        "\n",
        "def empty_check(set1, set2, set3):\n",
        "  empty_count=0\n",
        "\n",
        "  if set1.intersection(set2) == set():\n",
        "    empty_count = empty_count+1\n",
        "\n",
        "  if set1.intersection(set3) == set():\n",
        "    empty_count = empty_count+1\n",
        "\n",
        "  if set2.intersection(set3) == set():\n",
        "    empty_count = empty_count+1\n",
        "\n",
        "  if empty_count < 2:\n",
        "    return True\n",
        "  \n",
        "  return False\n",
        "\n",
        "for i in it.product(range(1,n+1), repeat=6):\n",
        "  set1 = {i[0], i[1]}\n",
        "  set2 = {i[2], i[3]}\n",
        "  set3 = {i[4], i[5]}\n",
        "\n",
        "  if empty_check(set1,set2,set3):\n",
        "    count=count+1\n",
        "\n",
        "print(32*n*(n-1)*(n-2)*(n-3))\n",
        "print(count/(n*(n-1)*(n-2)*(n-3)))"
      ],
      "metadata": {
        "colab": {
          "base_uri": "https://localhost:8080/"
        },
        "id": "YpLTyli1f-br",
        "outputId": "48e41742-735b-455e-a60b-7fffe4cf6912"
      },
      "execution_count": null,
      "outputs": [
        {
          "output_type": "stream",
          "name": "stdout",
          "text": [
            "380160\n",
            "39.86767676767677\n"
          ]
        }
      ]
    }
  ]
}