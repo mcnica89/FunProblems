{
  "nbformat": 4,
  "nbformat_minor": 0,
  "metadata": {
    "colab": {
      "provenance": [],
      "include_colab_link": true
    },
    "kernelspec": {
      "name": "python3",
      "display_name": "Python 3"
    },
    "language_info": {
      "name": "python"
    }
  },
  "cells": [
    {
      "cell_type": "markdown",
      "metadata": {
        "id": "view-in-github",
        "colab_type": "text"
      },
      "source": [
        "<a href=\"https://colab.research.google.com/github/mcnica89/FunProblems/blob/main/Irreducible_configurations_counter.ipynb\" target=\"_parent\"><img src=\"https://colab.research.google.com/assets/colab-badge.svg\" alt=\"Open In Colab\"/></a>"
      ]
    },
    {
      "cell_type": "markdown",
      "source": [
        "Most recent strategy:\n"
      ],
      "metadata": {
        "id": "3KZUTXGvBccn"
      }
    },
    {
      "cell_type": "code",
      "source": [
        "#count patterns\n",
        "\n",
        "import scipy.special as sp\n",
        "import itertools as it\n",
        "\n",
        "\n",
        "\n",
        "def is_reducible(indices):\n",
        "    p = len(indices)//2\n",
        "    for i in range(p): #check each point to see if its reducible\n",
        "      point_i = {indices[2*i], indices[2*i+1]}\n",
        "      other_points = set(indices[0:2*i])|set(indices[2*i+2:])\n",
        "      if point_i & other_points == set(): #if overlap is empty, then point_i is reducible!\n",
        "        return True\n",
        "    \n",
        "    return False\n",
        "\n",
        "def num_irreducible_patterns(p):\n",
        "  #return the number of irreducible patterns for (i_1,j_1),...,(i_p,j_p)\n",
        "  #A pattern is something like (a,b)(a,c) indicating tthat i_1=i_2 and j_1,j_2 are unique\n",
        "  #they are returned as a list [c_1,c_2,...,c_max_unique_indices]\n",
        "  #where c_k is the number of patterns with k unique indices\n",
        "  #e.g. for p=3 returns [1,28,68,32]\n",
        "\n",
        "\n",
        "  max_unique_indices = 2*p - 2 #no need to do 2p-1 or 2p since we know these are 0\n",
        "\n",
        "  irreducible_counts = [0 for i in range(max_unique_indices)] #array that will count irreducible configs\n",
        "\n",
        "  for indices in it.product(range(max_unique_indices), repeat=2*p): #we create all configs of length 2p with indices in 0 to to max_unique_indices\n",
        "    if is_reducible(indices) == False:\n",
        "      num_unique_indices = len(set(indices))\n",
        "      irreducible_counts[num_unique_indices-1] += 1 #Note the minus 1 because python starts at index 0\n",
        "  \n",
        "  #We have overcounted, since for example the pattern (a,b)(b,c) will get counted multiple times by different choices for a,b,c\n",
        "  #For a pattern with k unique indices, there are (max_unique_indices choose k) ways to choose what numbers will be used for a,b,c\n",
        "  #and then there are k! ways to rerrange those into the a,b,c\n",
        "  #So we divide as follows:\n",
        "  num_patterns = [ irreducible_counts[k-1]/sp.comb(max_unique_indices,k)/sp.factorial(k) for k in range(1,max_unique_indices+1) ]\n",
        "  return num_patterns\n",
        "\n",
        "print(f\"Number of patterns for 3rd power: {num_irreducible_patterns(3)}\")\n",
        "\n",
        "print(f\"Number of patterns for 4th power: {num_irreducible_patterns(4)}\")\n",
        "\n",
        "print(\"------\")"
      ],
      "metadata": {
        "id": "pxy4QRajBb9-",
        "colab": {
          "base_uri": "https://localhost:8080/"
        },
        "outputId": "f4d79877-ffbf-486f-fbe0-6c85f26dd563"
      },
      "execution_count": 1,
      "outputs": [
        {
          "output_type": "stream",
          "name": "stdout",
          "text": [
            "Number of patterns for 3rd power: [1.0, 28.0, 68.0, 32.0]\n",
            "Number of patterns for 4th power: [1.0, 123.0, 844.0, 1268.0, 544.0, 48.0]\n",
            "------\n"
          ]
        }
      ]
    },
    {
      "cell_type": "code",
      "source": [
        "#count the number of irreducible configs by going throuh all max_num**(2*n_points) points\n",
        "\n",
        "import numpy as np\n",
        "def all_configs(max_num, my_len):\n",
        "  A = np.indices([max_num for i in range(my_len)])\n",
        "  A = np.reshape(A,(my_len,-1)).transpose()\n",
        "  return A\n",
        "\n",
        "def my_intersect_is_empty(A,B):\n",
        "  return np.logical_and(np.logical_and(np.logical_and(A[:,0] != B[:,0],A[:,0] != B[:,1]),A[:,1] != B[:,0]),A[:,1] != B[:,1])\n",
        "\n",
        "def count_reducible_configs(max_num,n_points):\n",
        "  Indices = all_configs(max_num,2*n_points)  \n",
        "  point_ix = np.array([[2*i,2*i+1] for i in range(n_points)])\n",
        "  Points = Indices[:,point_ix]\n",
        "  Empty_Int_With_Others = np.array([ [my_intersect_is_empty(Points[:,i],Points[:,j]) for i in range(n_points) if i != j] for j in range(n_points)])\n",
        "  Reducible = np.all(Empty_Int_With_Others,axis=1)\n",
        "  AnyReducible = np.any(Reducible,axis=0)\n",
        "  return np.sum(AnyReducible)\n",
        "\n",
        "def count_irreducible_configs(max_num,n_points):\n",
        "  return max_num**(2*n_points) - count_reducible_configs(max_num,n_points)    \n",
        "\n",
        "count_irreducible_configs(max_num = 10,n_points=3)    "
      ],
      "metadata": {
        "colab": {
          "base_uri": "https://localhost:8080/"
        },
        "id": "akaaqRdBuCRS",
        "outputId": "0ab95dd7-aebb-41c9-9bab-277b92028969"
      },
      "execution_count": 2,
      "outputs": [
        {
          "output_type": "execute_result",
          "data": {
            "text/plain": [
              "212770"
            ]
          },
          "metadata": {},
          "execution_count": 2
        }
      ]
    },
    {
      "cell_type": "code",
      "source": [
        "def falling_factorial(n,k):\n",
        "  return np.prod(np.arange(n,n-k,-1))\n",
        "\n",
        "n= 10\n",
        "p = 3\n",
        "def count_irreducible_configs_using_patterns(max_num,n_points):\n",
        "  n_patterns = num_irreducible_patterns(n_points)\n",
        "  return sum([ n_patterns[k-1]*falling_factorial(max_num,k) for k in range(1,2*n_points-2+1)])\n",
        "\n",
        "\n",
        "count_irreducible_configs_using_patterns(10,3)   "
      ],
      "metadata": {
        "colab": {
          "base_uri": "https://localhost:8080/"
        },
        "id": "a8vdcDYCpyL_",
        "outputId": "9a4bfadb-5a1f-40f1-8de8-0a3698cede0e"
      },
      "execution_count": 3,
      "outputs": [
        {
          "output_type": "execute_result",
          "data": {
            "text/plain": [
              "212770.0"
            ]
          },
          "metadata": {},
          "execution_count": 3
        }
      ]
    },
    {
      "cell_type": "code",
      "source": [
        "#check to see if they are equal for some different values\n",
        "\n",
        "for n,p in [(10,3),(11,3),(12,3),(8,4),(9,4)]:\n",
        "  print(f\"max n:{n}, num points:{p}\")\n",
        "  print(f\"Count using brute force: {count_irreducible_configs(n,p)}\")\n",
        "  print(f\"Count using patterns: {count_irreducible_configs_using_patterns(n,p)}\")\n",
        "  print(\"---------\")  "
      ],
      "metadata": {
        "colab": {
          "base_uri": "https://localhost:8080/"
        },
        "id": "FLCw-KHh6a1C",
        "outputId": "061bcd6e-06c1-40f9-fda3-61f9d61bd788"
      },
      "execution_count": 4,
      "outputs": [
        {
          "output_type": "stream",
          "name": "stdout",
          "text": [
            "max n:10, num points:3\n",
            "Count using brute force: 212770\n",
            "Count using patterns: 212770.0\n",
            "---------\n",
            "max n:11, num points:3\n",
            "Count using brute force: 323851\n",
            "Count using patterns: 323851.0\n",
            "---------\n",
            "max n:12, num points:3\n",
            "Count using brute force: 473628\n",
            "Count using patterns: 473628.0\n",
            "---------\n",
            "max n:8, num points:4\n",
            "Count using brute force: 7044080\n",
            "Count using patterns: 7044080.0\n",
            "---------\n",
            "max n:9, num points:4\n",
            "Count using brute force: 15396993\n",
            "Count using patterns: 15396993.0\n",
            "---------\n"
          ]
        }
      ]
    }
  ]
}