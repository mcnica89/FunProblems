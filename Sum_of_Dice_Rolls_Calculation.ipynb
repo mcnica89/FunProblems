{
  "nbformat": 4,
  "nbformat_minor": 0,
  "metadata": {
    "colab": {
      "provenance": [],
      "authorship_tag": "ABX9TyM3uXQ4V/h3cYFLPq1P04rT",
      "include_colab_link": true
    },
    "kernelspec": {
      "name": "python3",
      "display_name": "Python 3"
    },
    "language_info": {
      "name": "python"
    }
  },
  "cells": [
    {
      "cell_type": "markdown",
      "metadata": {
        "id": "view-in-github",
        "colab_type": "text"
      },
      "source": [
        "<a href=\"https://colab.research.google.com/github/mcnica89/FunProblems/blob/main/Sum_of_Dice_Rolls_Calculation.ipynb\" target=\"_parent\"><img src=\"https://colab.research.google.com/assets/colab-badge.svg\" alt=\"Open In Colab\"/></a>"
      ]
    },
    {
      "cell_type": "code",
      "execution_count": null,
      "metadata": {
        "id": "Gzzu22HyIG2e",
        "colab": {
          "base_uri": "https://localhost:8080/"
        },
        "outputId": "fd9b1e9f-cfb6-4dcc-cc93-cf1db929adc9"
      },
      "outputs": [
        {
          "output_type": "stream",
          "name": "stdout",
          "text": [
            "3.7.15 (default, Oct 12 2022, 19:14:55) \n",
            "[GCC 7.5.0]\n"
          ]
        }
      ],
      "source": [
        "import numpy as np\n",
        "import matplotlib.pyplot as plt\n",
        "import sys\n",
        "print(sys.version)"
      ]
    },
    {
      "cell_type": "markdown",
      "source": [
        "# The Problem\n",
        "\n",
        "Find the probability that the sum of 10 dice is larger than 40."
      ],
      "metadata": {
        "id": "HOrBB-K0d7aG"
      }
    },
    {
      "cell_type": "markdown",
      "source": [
        "# For loop solution (slow!)"
      ],
      "metadata": {
        "id": "280J2Vf6d_9b"
      }
    },
    {
      "cell_type": "code",
      "source": [
        "%%time\n",
        "#Takes ~30 seconds\n",
        "count = 0\n",
        "for i1 in range(1,7):\n",
        "  for i2 in range(1,7):\n",
        "    for i3 in range(1,7):\n",
        "      for i4 in range(1,7):\n",
        "        for i5 in range(1,7):\n",
        "          for i6 in range(1,7):\n",
        "            for i7 in range(1,7):\n",
        "              for i8 in range(1,7):\n",
        "                for i9 in range(1,7):\n",
        "                  for i10 in range(1,7):\n",
        "                      if (i1+i2+i3+i4+i5+i6+i7+i8+i9+i10) >= 40:\n",
        "                        count += 1\n",
        "\n",
        "print(\"Number of possibilities: \", count)\n",
        "print(f\"Probability: {count/6**10:.3f}\")"
      ],
      "metadata": {
        "colab": {
          "base_uri": "https://localhost:8080/"
        },
        "id": "hvp2xX7CZBBp",
        "outputId": "50dddd6f-9d31-4fb5-a85a-146b2b2af869"
      },
      "execution_count": null,
      "outputs": [
        {
          "output_type": "stream",
          "name": "stdout",
          "text": [
            "Number of possibilities:  12393645\n",
            "Probability: 0.205\n",
            "CPU times: user 29.4 s, sys: 199 ms, total: 29.6 s\n",
            "Wall time: 34.8 s\n"
          ]
        }
      ]
    },
    {
      "cell_type": "markdown",
      "source": [
        "# Using itertools (better version of nested for loops)"
      ],
      "metadata": {
        "id": "6nGpafUYfNM4"
      }
    },
    {
      "cell_type": "code",
      "source": [
        "%%time\n",
        "#Takes ~20 seconds\n",
        "import itertools as it\n",
        "n = 10 #number of rolls\n",
        "k = 40 #target\n",
        "\n",
        "num_rolls = sum([sum(rolls) >= 40 for rolls in it.product(range(1,7), repeat=n)])\n",
        "\n",
        "print(\"Number of possibilities: \", num_rolls)\n",
        "print(f\"Probability: {num_rolls/6**10:.3f}\")"
      ],
      "metadata": {
        "colab": {
          "base_uri": "https://localhost:8080/"
        },
        "id": "LhfTCkBCfPON",
        "outputId": "82dd37dc-9429-453a-af22-d84fde13a543"
      },
      "execution_count": null,
      "outputs": [
        {
          "output_type": "stream",
          "name": "stdout",
          "text": [
            "Number of possibilities:  12393645\n",
            "Probability: 0.205\n",
            "CPU times: user 19.8 s, sys: 1.61 s, total: 21.4 s\n",
            "Wall time: 22.9 s\n"
          ]
        }
      ]
    },
    {
      "cell_type": "markdown",
      "source": [
        "# Markov chain method"
      ],
      "metadata": {
        "id": "nN1QaOU_ePcj"
      }
    },
    {
      "cell_type": "code",
      "source": [
        "%%time\n",
        "#Takes ~0.1 seconds\n",
        "max_X = 60\n",
        "\n",
        "plus_dice_roll = np.zeros((1+max_X,1+max_X),dtype=int) #this will be the Markov chain tranisition matrix for +1d6\n",
        "i,j = np.indices((1+max_X,1+max_X))\n",
        "\n",
        "for off in range(1,7):\n",
        "  plus_dice_roll[j==i+off] = 1 #ordinary counts\n",
        "  plus_dice_roll[(i+off > max_X) * (j==max_X)] += 1 #overflow counts\n",
        "\n",
        "\n",
        "n = 10 #number of dice to roll\n",
        "sum_of_n_rolls = np.linalg.matrix_power(plus_dice_roll,n)[0,:]\n",
        "plt.plot(sum_of_n_rolls/6**n,'bo')\n",
        "\n",
        "\n",
        "k = 40 #target value to roll more than\n",
        "print(f\"Number of combinations of {n} rolls >= {k}: {np.sum(sum_of_n_rolls[k:])}\")\n",
        "\n",
        "print(f\"Prob sum of {n} rolls >= {k}: {np.sum(sum_of_n_rolls[k:])/6**n:.3f}\")\n",
        "\n",
        "print(f\"Prob sum_of_{n}_rolls = {k} exactly: {sum_of_n_rolls[40]/6**n:.3f}\")"
      ],
      "metadata": {
        "colab": {
          "base_uri": "https://localhost:8080/",
          "height": 354
        },
        "id": "KubgoAfCIKFL",
        "outputId": "283a685a-b8c2-4afa-b25c-af801b34a215"
      },
      "execution_count": null,
      "outputs": [
        {
          "output_type": "stream",
          "name": "stdout",
          "text": [
            "Number of combinations of 10 rolls >= 40: 12393645\n",
            "Prob sum of 10 rolls >= 40: 0.205\n",
            "Prob sum_of_10_rolls = 40 exactly: 0.048\n",
            "CPU times: user 46.5 ms, sys: 0 ns, total: 46.5 ms\n",
            "Wall time: 83 ms\n"
          ]
        },
        {
          "output_type": "display_data",
          "data": {
            "text/plain": [
              "<Figure size 432x288 with 1 Axes>"
            ],
            "image/png": "[encoded data removed]"
          },
          "metadata": {
            "needs_background": "light"
          }
        }
      ]
    },
    {
      "cell_type": "markdown",
      "source": [
        "# CLT type calculation"
      ],
      "metadata": {
        "id": "x5I3m4bceSPA"
      }
    },
    {
      "cell_type": "code",
      "source": [
        "import math\n",
        "def phi(x):\n",
        "    'Cumulative distribution function for the standard normal distribution'\n",
        "    return (1.0 + math.erf(x / math.sqrt(2.0))) / 2.0"
      ],
      "metadata": {
        "id": "SQr1EPpvNNGE"
      },
      "execution_count": null,
      "outputs": []
    },
    {
      "cell_type": "code",
      "source": [
        "def CLT_prob(n,k):\n",
        "  'CLT prob of n dice being larger than k'\n",
        "  dice = np.array([1,2,3,4,5,6])\n",
        "  dice_sd = np.sqrt( np.sum( (dice - 3.5)**2 )/6 )\n",
        "  s = (k-3.5*n)/np.sqrt(n)/dice_sd\n",
        "  return 1-phi(s)"
      ],
      "metadata": {
        "id": "Y3ijfPmlMs_W"
      },
      "execution_count": null,
      "outputs": []
    },
    {
      "cell_type": "code",
      "source": [
        "CLT_prob(10,40) #This estimate is off by a fair bit!"
      ],
      "metadata": {
        "colab": {
          "base_uri": "https://localhost:8080/"
        },
        "id": "4Lq2iu4qNkS7",
        "outputId": "cb1ca42b-94e0-4798-e799-2ff2b1e2fc14"
      },
      "execution_count": null,
      "outputs": [
        {
          "output_type": "execute_result",
          "data": {
            "text/plain": [
              "0.17726973988675065"
            ]
          },
          "metadata": {},
          "execution_count": 7
        }
      ]
    },
    {
      "cell_type": "code",
      "source": [
        "CLT_prob(10,39.5) #This is quite close!"
      ],
      "metadata": {
        "id": "VxYA0xe-NlED",
        "colab": {
          "base_uri": "https://localhost:8080/"
        },
        "outputId": "db791819-8a56-48f5-b134-d3ce81c66639"
      },
      "execution_count": null,
      "outputs": [
        {
          "output_type": "execute_result",
          "data": {
            "text/plain": [
              "0.20235523231360775"
            ]
          },
          "metadata": {},
          "execution_count": 8
        }
      ]
    }
  ]
}