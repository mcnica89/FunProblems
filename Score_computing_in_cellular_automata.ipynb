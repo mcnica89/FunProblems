{
  "nbformat": 4,
  "nbformat_minor": 0,
  "metadata": {
    "colab": {
      "provenance": [],
      "authorship_tag": "ABX9TyOtpLcgriaiB2Rg6AXQGLj9",
      "include_colab_link": true
    },
    "kernelspec": {
      "name": "python3",
      "display_name": "Python 3"
    },
    "language_info": {
      "name": "python"
    }
  },
  "cells": [
    {
      "cell_type": "markdown",
      "metadata": {
        "id": "view-in-github",
        "colab_type": "text"
      },
      "source": [
        "<a href=\"https://colab.research.google.com/github/mcnica89/FunProblems/blob/main/Score_computing_in_cellular_automata.ipynb\" target=\"_parent\"><img src=\"https://colab.research.google.com/assets/colab-badge.svg\" alt=\"Open In Colab\"/></a>"
      ]
    },
    {
      "cell_type": "code",
      "execution_count": 1,
      "metadata": {
        "id": "3l-fH3y04Siz"
      },
      "outputs": [],
      "source": [
        "import jax\n",
        "import jax.numpy as jnp\n",
        "import matplotlib.pyplot as plt\n",
        "import numpy as np"
      ]
    },
    {
      "cell_type": "code",
      "source": [
        "M = np.arange(9).reshape(3,3)\n",
        "print(M)"
      ],
      "metadata": {
        "colab": {
          "base_uri": "https://localhost:8080/"
        },
        "id": "3I6le1ED7Bfl",
        "outputId": "d6370624-a0e6-4de1-8d0c-615930108a2d"
      },
      "execution_count": 2,
      "outputs": [
        {
          "output_type": "stream",
          "name": "stdout",
          "text": [
            "[[0 1 2]\n",
            " [3 4 5]\n",
            " [6 7 8]]\n"
          ]
        }
      ]
    },
    {
      "cell_type": "code",
      "source": [
        "# 2D kernel - HWIO layout\n",
        "kernel_np = np.zeros((3, 3, 3, 3), dtype=jnp.float32)\n",
        "\n",
        "#kernel_np += np.array([[3, 5]])[:, :, jnp.newaxis, jnp.newaxis]\n",
        "\n",
        "I,J,K,L = np.indices((3, 3, 3, 3))\n",
        "#kernel_np[K==L] = kernel_np[K==L]\n",
        "\n",
        "\n",
        "for a in range(3):\n",
        "  for b in range(3):\n",
        "    kernel_np += (J == I+1)*(K==a)*(L==b)*M[a,b]\n",
        "    kernel_np += (J == I-1)*(K==a)*(L==b)*M[a,b]\n",
        "\n",
        "\n",
        "\n",
        "kernel = jnp.array(kernel_np,dtype=float)\n",
        "\n",
        "\n",
        "print(\"Edge Conv kernel:\")\n",
        "plt.imshow(kernel[:, :, 0, 2]);\n",
        "plt.colorbar()"
      ],
      "metadata": {
        "colab": {
          "base_uri": "https://localhost:8080/",
          "height": 304
        },
        "id": "BgnISpk24TdY",
        "outputId": "88ccb060-fca8-4107-8198-cfdc4bc42d17"
      },
      "execution_count": 39,
      "outputs": [
        {
          "output_type": "stream",
          "name": "stdout",
          "text": [
            "Edge Conv kernel:\n"
          ]
        },
        {
          "output_type": "execute_result",
          "data": {
            "text/plain": [
              "<matplotlib.colorbar.Colorbar at 0x7f87a7cb9bd0>"
            ]
          },
          "metadata": {},
          "execution_count": 39
        },
        {
          "output_type": "display_data",
          "data": {
            "text/plain": [
              "<Figure size 432x288 with 2 Axes>"
            ],
            "image/png": "[encoded data removed]"
          },
          "metadata": {
            "needs_background": "light"
          }
        }
      ]
    },
    {
      "cell_type": "code",
      "source": [
        "# NHWC layout\n",
        "#img = jnp.zeros((1, 20, 30, 3), dtype=jnp.float32)\n",
        "#for k in range(3):\n",
        "#  x = 3 + 5*k\n",
        "#  y = 2 + 5*k\n",
        "#  img = img.at[0, x:x+1, y:y+1, k].set(1.0)\n",
        "\n",
        "#print(\"Original Image:\")\n",
        "def print_image(img):\n",
        "  for ch in range(3):\n",
        "    print(f\"Channel {ch}\")\n",
        "    plt.imshow(img[0,:,:,ch]);\n",
        "    plt.colorbar()\n",
        "    plt.show()\n",
        "\n",
        "#print_image(img)"
      ],
      "metadata": {
        "id": "g0eD5UHd4c-R"
      },
      "execution_count": 40,
      "outputs": []
    },
    {
      "cell_type": "code",
      "source": [
        "original_array = np.array([[1,1,1,1],[1,1,1,1],[1,1,1,1],[1,1,1,1]],dtype=float)\n",
        "img = jax.nn.one_hot(original_array,3)\n",
        "img = img[jnp.newaxis,:,:,:]\n",
        "print(original_array)\n",
        "print_image(img)"
      ],
      "metadata": {
        "colab": {
          "base_uri": "https://localhost:8080/",
          "height": 895
        },
        "id": "l2wWLvQG_9cK",
        "outputId": "0fcbddbf-fcf3-4cfc-b42c-7880f9248712"
      },
      "execution_count": 41,
      "outputs": [
        {
          "output_type": "stream",
          "name": "stdout",
          "text": [
            "[[1. 1. 1. 1.]\n",
            " [1. 1. 1. 1.]\n",
            " [1. 1. 1. 1.]\n",
            " [1. 1. 1. 1.]]\n",
            "Channel 0\n"
          ]
        },
        {
          "output_type": "display_data",
          "data": {
            "text/plain": [
              "<Figure size 432x288 with 2 Axes>"
            ],
            "image/png": "[encoded data removed]"
          },
          "metadata": {
            "needs_background": "light"
          }
        },
        {
          "output_type": "stream",
          "name": "stdout",
          "text": [
            "Channel 1\n"
          ]
        },
        {
          "output_type": "display_data",
          "data": {
            "text/plain": [
              "<Figure size 432x288 with 2 Axes>"
            ],
            "image/png": "[encoded data removed]"
          },
          "metadata": {
            "needs_background": "light"
          }
        },
        {
          "output_type": "stream",
          "name": "stdout",
          "text": [
            "Channel 2\n"
          ]
        },
        {
          "output_type": "display_data",
          "data": {
            "text/plain": [
              "<Figure size 432x288 with 2 Axes>"
            ],
            "image/png": "[encoded data removed]"
          },
          "metadata": {
            "needs_background": "light"
          }
        }
      ]
    },
    {
      "cell_type": "code",
      "source": [
        "from jax import lax\n",
        "out = lax.conv(jnp.transpose(img,[0,3,1,2]),    # lhs = NCHW image tensor\n",
        "               jnp.transpose(kernel,[3,2,0,1]), # rhs = OIHW conv kernel tensor\n",
        "               (1, 1),  # window strides\n",
        "               'SAME') # padding mode\n",
        "#plt.figure(figsize=(10,10))\n",
        "#plt.imshow(np.array(out)[0,0,:,:]);\n",
        "\n",
        "out_t = jnp.transpose(out, (0,2,3,1))\n",
        "\n",
        "\n",
        "print(\"out_t shape: \", out_t.shape)\n",
        "\n",
        "my_o_array = original_array.astype(int)\n",
        "\n",
        "\n",
        "ans = np.take_along_axis(out_t, my_o_array[None,:,:,None],axis=-1 )\n",
        "print(ans)\n",
        "\n",
        "\n",
        "\n",
        "print_image(out_t)"
      ],
      "metadata": {
        "colab": {
          "base_uri": "https://localhost:8080/",
          "height": 1000
        },
        "id": "vL3mRNN144jb",
        "outputId": "b39bfbc5-51a2-4bc4-822e-c8620b07ce1d"
      },
      "execution_count": 48,
      "outputs": [
        {
          "output_type": "stream",
          "name": "stdout",
          "text": [
            "out_t shape:  (1, 4, 4, 3)\n",
            "[[[[ 8.]\n",
            "   [12.]\n",
            "   [12.]\n",
            "   [ 8.]]\n",
            "\n",
            "  [[12.]\n",
            "   [16.]\n",
            "   [16.]\n",
            "   [12.]]\n",
            "\n",
            "  [[12.]\n",
            "   [16.]\n",
            "   [16.]\n",
            "   [12.]]\n",
            "\n",
            "  [[ 8.]\n",
            "   [12.]\n",
            "   [12.]\n",
            "   [ 8.]]]]\n",
            "Channel 0\n"
          ]
        },
        {
          "output_type": "display_data",
          "data": {
            "text/plain": [
              "<Figure size 432x288 with 2 Axes>"
            ],
            "image/png": "[encoded data removed]"
          },
          "metadata": {
            "needs_background": "light"
          }
        },
        {
          "output_type": "stream",
          "name": "stdout",
          "text": [
            "Channel 1\n"
          ]
        },
        {
          "output_type": "display_data",
          "data": {
            "text/plain": [
              "<Figure size 432x288 with 2 Axes>"
            ],
            "image/png": "[encoded data removed]"
          },
          "metadata": {
            "needs_background": "light"
          }
        },
        {
          "output_type": "stream",
          "name": "stdout",
          "text": [
            "Channel 2\n"
          ]
        },
        {
          "output_type": "display_data",
          "data": {
            "text/plain": [
              "<Figure size 432x288 with 2 Axes>"
            ],
            "image/png": "[encoded data removed]"
          },
          "metadata": {
            "needs_background": "light"
          }
        }
      ]
    },
    {
      "cell_type": "code",
      "source": [],
      "metadata": {
        "id": "ULP8X0-A49P4"
      },
      "execution_count": 6,
      "outputs": []
    }
  ]
}